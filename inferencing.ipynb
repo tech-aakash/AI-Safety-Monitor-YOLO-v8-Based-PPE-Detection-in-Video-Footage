{
 "cells": [
  {
   "cell_type": "code",
   "execution_count": null,
   "metadata": {},
   "outputs": [],
   "source": [
    "#load the custom trained model\n",
    "from ultralytics import YOLO\n",
    "import pandas as pd\n",
    "\n",
    "model = YOLO('best.pt')"
   ]
  },
  {
   "cell_type": "code",
   "execution_count": null,
   "metadata": {},
   "outputs": [],
   "source": [
    "#inferencing the model on the test video\n",
    "\n",
    "results = model.track(source='PPE-test.mp4', save=True, tracker=\"bytetrack.yaml\")"
   ]
  },
  {
   "cell_type": "code",
   "execution_count": null,
   "metadata": {},
   "outputs": [],
   "source": [
    "#save the results in csv format\n",
    "\n",
    "data = []\n",
    "for i, r in enumerate(results):\n",
    "    if r.boxes is not None:\n",
    "        for box, cls, conf, obj_id in zip(r.boxes.xyxy, r.boxes.cls, r.boxes.conf, r.boxes.id):\n",
    "            x1, y1, x2, y2 = box.tolist()  # convert tensor to list\n",
    "            class_name = r.names[int(cls.item())]  # map class ID to class name\n",
    "            data.append([i, x1, y1, x2, y2, class_name, conf.item(), obj_id.item(), r.boxes.is_track])\n",
    "\n",
    "df = pd.DataFrame(data, columns=['frame', 'x1', 'y1', 'x2', 'y2', 'class', 'confidence', 'id', 'is_track'])\n",
    "df.to_excel('output.xlsx', index=False)\n"
   ]
  }
 ],
 "metadata": {
  "language_info": {
   "name": "python"
  }
 },
 "nbformat": 4,
 "nbformat_minor": 2
}
